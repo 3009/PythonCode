{
 "cells": [
  {
   "cell_type": "code",
   "execution_count": 1,
   "metadata": {},
   "outputs": [],
   "source": [
    "#lambda, map, filter, reduce"
   ]
  },
  {
   "cell_type": "code",
   "execution_count": 2,
   "metadata": {},
   "outputs": [
    {
     "name": "stdout",
     "output_type": "stream",
     "text": [
      "9\n",
      "100\n"
     ]
    }
   ],
   "source": [
    "#anonymous \n",
    "#inline function\n",
    "#syntax\n",
    "\n",
    "#fun_name = lambda arg1,arg2 : expression\n",
    "\n",
    "def add(x,y):\n",
    "    return x + y \n",
    "\n",
    "print(add(4,5))\n",
    "print(add(45,55))"
   ]
  },
  {
   "cell_type": "code",
   "execution_count": 3,
   "metadata": {},
   "outputs": [
    {
     "name": "stdout",
     "output_type": "stream",
     "text": [
      "9\n",
      "100\n"
     ]
    }
   ],
   "source": [
    "add = lambda x,y : x + y\n",
    "\n",
    "print(add(4,5))\n",
    "print(add(45,55))"
   ]
  },
  {
   "cell_type": "code",
   "execution_count": 5,
   "metadata": {},
   "outputs": [
    {
     "name": "stdout",
     "output_type": "stream",
     "text": [
      "ODD\n",
      "EVEN\n"
     ]
    }
   ],
   "source": [
    "def eve_odd(num):\n",
    "    if num % 2 == 0 : \n",
    "        return 'EVEN'\n",
    "    else : \n",
    "        return 'ODD'\n",
    "print(eve_odd(45))\n",
    "print(eve_odd(12))"
   ]
  },
  {
   "cell_type": "code",
   "execution_count": 7,
   "metadata": {},
   "outputs": [
    {
     "name": "stdout",
     "output_type": "stream",
     "text": [
      "ODD\n",
      "EVEN\n"
     ]
    }
   ],
   "source": [
    "eve_odd = lambda num : 'EVEN' if num % 2 == 0 else 'ODD'\n",
    "print(eve_odd(45))\n",
    "print(eve_odd(12))"
   ]
  },
  {
   "cell_type": "code",
   "execution_count": 16,
   "metadata": {},
   "outputs": [
    {
     "name": "stdout",
     "output_type": "stream",
     "text": [
      "1 2 3 4 5 6 7 8 9 10\n"
     ]
    }
   ],
   "source": [
    "#map \n",
    "names = input().strip().split()\n"
   ]
  },
  {
   "cell_type": "code",
   "execution_count": 17,
   "metadata": {},
   "outputs": [
    {
     "data": {
      "text/plain": [
       "['1', '2', '3', '4', '5', '6', '7', '8', '9', '10']"
      ]
     },
     "execution_count": 17,
     "metadata": {},
     "output_type": "execute_result"
    }
   ],
   "source": [
    "names"
   ]
  },
  {
   "cell_type": "code",
   "execution_count": 18,
   "metadata": {},
   "outputs": [
    {
     "data": {
      "text/plain": [
       "[1, 2, 3, 4, 5, 6, 7, 8, 9, 10]"
      ]
     },
     "execution_count": 18,
     "metadata": {},
     "output_type": "execute_result"
    }
   ],
   "source": [
    "num_list = []\n",
    "for var in names : \n",
    "    num_list.append(int(var))\n",
    "num_list"
   ]
  },
  {
   "cell_type": "code",
   "execution_count": 19,
   "metadata": {},
   "outputs": [
    {
     "name": "stdout",
     "output_type": "stream",
     "text": [
      "1 2 3 43 43 4324 324 234 23 432\n"
     ]
    }
   ],
   "source": [
    "#map(function,sequence)\n",
    "num_list = list(map(int,input().split()))"
   ]
  },
  {
   "cell_type": "code",
   "execution_count": 20,
   "metadata": {},
   "outputs": [
    {
     "data": {
      "text/plain": [
       "[1, 2, 3, 43, 43, 4324, 324, 234, 23, 432]"
      ]
     },
     "execution_count": 20,
     "metadata": {},
     "output_type": "execute_result"
    }
   ],
   "source": [
    "num_list"
   ]
  },
  {
   "cell_type": "code",
   "execution_count": 22,
   "metadata": {},
   "outputs": [
    {
     "data": {
      "text/plain": [
       "[False, True, False, False, False, True, True, True, False, True]"
      ]
     },
     "execution_count": 22,
     "metadata": {},
     "output_type": "execute_result"
    }
   ],
   "source": [
    "new_list = list(map(lambda num:True if num % 2 == 0 else False, num_list))\n",
    "new_list"
   ]
  },
  {
   "cell_type": "code",
   "execution_count": 23,
   "metadata": {},
   "outputs": [
    {
     "data": {
      "text/plain": [
       "[2, 4324, 324, 234, 432]"
      ]
     },
     "execution_count": 23,
     "metadata": {},
     "output_type": "execute_result"
    }
   ],
   "source": [
    "new_list = list(filter(lambda num:True if num % 2 == 0 else False, num_list))\n",
    "new_list"
   ]
  },
  {
   "cell_type": "code",
   "execution_count": 2,
   "metadata": {},
   "outputs": [
    {
     "name": "stdout",
     "output_type": "stream",
     "text": [
      "Welcome mr sachin\n"
     ]
    }
   ],
   "source": [
    "def name(n):\n",
    "    print(f\"Welcome mr {n}\")\n",
    "name('sachin')"
   ]
  },
  {
   "cell_type": "code",
   "execution_count": 3,
   "metadata": {},
   "outputs": [
    {
     "name": "stdout",
     "output_type": "stream",
     "text": [
      "Welcome mr sachin.\n"
     ]
    }
   ],
   "source": [
    "def name(n):\n",
    "    return f\"Welcome mr {n}.\"\n",
    "r = name('sachin')\n",
    "print(r)"
   ]
  },
  {
   "cell_type": "code",
   "execution_count": 5,
   "metadata": {},
   "outputs": [
    {
     "name": "stdout",
     "output_type": "stream",
     "text": [
      "Total Arguments Passed are - java, c, c++, data\n"
     ]
    }
   ],
   "source": [
    "\n",
    "def name(*items):\n",
    "    string = \"\"\n",
    "    for item in items :\n",
    "        string += item + ', '\n",
    "    string = string[:-2]\n",
    "    return f\"Total Arguments Passed are - {string}\"\n",
    "\n",
    "r = name('java','c','c++','data')\n",
    "print(r)"
   ]
  },
  {
   "cell_type": "code",
   "execution_count": 6,
   "metadata": {},
   "outputs": [],
   "source": [
    "def data(**dictionary) : \n",
    "    return dictionary"
   ]
  },
  {
   "cell_type": "code",
   "execution_count": 7,
   "metadata": {},
   "outputs": [],
   "source": [
    "d = data(name='sachin',age=22,country='india',language='hindi')"
   ]
  },
  {
   "cell_type": "code",
   "execution_count": 8,
   "metadata": {},
   "outputs": [
    {
     "data": {
      "text/plain": [
       "dict"
      ]
     },
     "execution_count": 8,
     "metadata": {},
     "output_type": "execute_result"
    }
   ],
   "source": [
    "type(d)"
   ]
  },
  {
   "cell_type": "code",
   "execution_count": 9,
   "metadata": {},
   "outputs": [
    {
     "data": {
      "text/plain": [
       "{'name': 'sachin', 'age': 22, 'country': 'india', 'language': 'hindi'}"
      ]
     },
     "execution_count": 9,
     "metadata": {},
     "output_type": "execute_result"
    }
   ],
   "source": [
    "d"
   ]
  },
  {
   "cell_type": "code",
   "execution_count": 15,
   "metadata": {},
   "outputs": [
    {
     "name": "stdout",
     "output_type": "stream",
     "text": [
      "<function hello.<locals>.hi at 0x000001B88C8D9B70>\n",
      "MY name is sachin.\n"
     ]
    }
   ],
   "source": [
    "#closure --> we can store a local variable inside a function \n",
    "#closure is function in which we define antoher that will store your information\n",
    "#and closure function will return that function \n",
    "def hello(name):\n",
    "    def hi(): #closure\n",
    "        print(f\"MY name is {name}.\")\n",
    "    return hi \n",
    "\n",
    "new_func = hello('sachin')\n",
    "print(new_func)\n",
    "new_func()"
   ]
  },
  {
   "cell_type": "code",
   "execution_count": 18,
   "metadata": {},
   "outputs": [],
   "source": [
    "def add_Company(company_name):\n",
    "    def template(userid,name,password):\n",
    "        para  = f\"\"\"\n",
    "        Company_name = {company_name}\n",
    "        UserId = {userid}\n",
    "        Name = {name}\n",
    "        Password = {password}\n",
    "        \"\"\"\n",
    "        print(para)\n",
    "    return template\n",
    "\n",
    "grras = add_Company('Grras Solutions Pvt. Ltd., Jaipur')\n",
    "linux_world = add_Company('Linux World Pvt. Ltd., Jaipur')"
   ]
  },
  {
   "cell_type": "code",
   "execution_count": 19,
   "metadata": {},
   "outputs": [
    {
     "name": "stdout",
     "output_type": "stream",
     "text": [
      "\n",
      "        Company_name = Grras Solutions Pvt. Ltd., Jaipur\n",
      "        UserId = 1001\n",
      "        Name = sachin\n",
      "        Password = redhat\n",
      "        \n"
     ]
    }
   ],
   "source": [
    "grras(1001,'sachin','redhat')"
   ]
  },
  {
   "cell_type": "code",
   "execution_count": 20,
   "metadata": {},
   "outputs": [
    {
     "name": "stdout",
     "output_type": "stream",
     "text": [
      "\n",
      "        Company_name = Linux World Pvt. Ltd., Jaipur\n",
      "        UserId = 1002\n",
      "        Name = neha\n",
      "        Password = helloworld\n",
      "        \n"
     ]
    }
   ],
   "source": [
    "linux_world(1002,'neha','helloworld')"
   ]
  },
  {
   "cell_type": "code",
   "execution_count": 22,
   "metadata": {},
   "outputs": [],
   "source": [
    "def add_Detail(cname,location,ph_no):\n",
    "    def enquiry(name,course,contact):\n",
    "        para = f\"\"\"\n",
    "        Company Name = {cname}\n",
    "        Location = {location}\n",
    "        Contact = {ph_no}\n",
    "        \n",
    "        \n",
    "        STUDENT DETAILS \n",
    "        \n",
    "        Student Name = {name}\n",
    "        Course = {course}\n",
    "        Contact Number = {contact}\n",
    "        \"\"\"\n",
    "        return para\n",
    "    return enquiry\n",
    "\n",
    "detail = add_Detail(\"GRRAS SOLUTIONS PVT. LTD\",\"GOPALPURA, JAIPUR(RAJ) INDIA\",977821131150)"
   ]
  },
  {
   "cell_type": "code",
   "execution_count": 24,
   "metadata": {},
   "outputs": [
    {
     "name": "stdout",
     "output_type": "stream",
     "text": [
      "\n",
      "        Company Name = GRRAS SOLUTIONS PVT. LTD\n",
      "        Location = GOPALPURA, JAIPUR(RAJ) INDIA\n",
      "        Contact = 977821131150\n",
      "        \n",
      "        \n",
      "        STUDENT DETAILS \n",
      "        \n",
      "        Student Name = manish\n",
      "        Course = cloud computing\n",
      "        Contact Number = 1982731239\n",
      "        \n",
      "\n",
      "        Company Name = GRRAS SOLUTIONS PVT. LTD\n",
      "        Location = GOPALPURA, JAIPUR(RAJ) INDIA\n",
      "        Contact = 977821131150\n",
      "        \n",
      "        \n",
      "        STUDENT DETAILS \n",
      "        \n",
      "        Student Name = jitu\n",
      "        Course = hacking\n",
      "        Contact Number = 99239239\n",
      "        \n"
     ]
    }
   ],
   "source": [
    "s1 = detail('manish','cloud computing',1982731239)\n",
    "s2 = detail('jitu','hacking',99239239)\n",
    "print(s1)\n",
    "print(s2)"
   ]
  },
  {
   "cell_type": "code",
   "execution_count": 21,
   "metadata": {},
   "outputs": [
    {
     "name": "stdout",
     "output_type": "stream",
     "text": [
      "Hello World\n"
     ]
    }
   ],
   "source": [
    "def hello():\n",
    "    print(\"Hello World\")\n",
    "    \n",
    "k = hello\n",
    "\n",
    "k()"
   ]
  },
  {
   "cell_type": "code",
   "execution_count": 28,
   "metadata": {},
   "outputs": [
    {
     "name": "stdout",
     "output_type": "stream",
     "text": [
      "5\n"
     ]
    }
   ],
   "source": [
    "#Decorator --> Propert\n",
    "#Decorator is python function which take a function as argument\n",
    "#and inside decorator we have function for closure property to maniplute the\n",
    "#given function and at last we return the inside function"
   ]
  },
  {
   "cell_type": "code",
   "execution_count": 29,
   "metadata": {},
   "outputs": [
    {
     "name": "stdout",
     "output_type": "stream",
     "text": [
      "Welcome mr. sachin\n",
      "x = 4\n",
      "y = 5\n",
      "x+y = 9\n"
     ]
    }
   ],
   "source": [
    "def hello(name):\n",
    "    print(f\"Welcome mr. {name}\")\n",
    "def add(x,y): \n",
    "    print(f\"x = {x}\")\n",
    "    print(f\"y = {y}\")\n",
    "    print(f\"x+y = {x+y}\")\n",
    "hello('sachin')\n",
    "add(4,5)"
   ]
  },
  {
   "cell_type": "code",
   "execution_count": 31,
   "metadata": {},
   "outputs": [
    {
     "name": "stdout",
     "output_type": "stream",
     "text": [
      "\n",
      "\n",
      "Without Decoration\n",
      "\n",
      "\n",
      "Calling Hello \n",
      "\n",
      "Welcome mr. Sachin\n",
      "\n",
      "\n",
      "\n",
      "Calling add\n",
      "\n",
      "x = 6\n",
      "y = 7\n",
      "x+y = 13\n",
      "\n",
      "\n",
      "After Decoration\n",
      "\n",
      "\n",
      "Calling hello1\n",
      "\n",
      "##################################################\n",
      "##################################################\n",
      "\n",
      "\n",
      "\n",
      "Welcome mr. sachin yadav\n",
      "\n",
      "\n",
      "\n",
      "##################################################\n",
      "##################################################\n",
      "\n",
      "\n",
      "\n",
      "Calling add1\n",
      "\n",
      "##################################################\n",
      "##################################################\n",
      "\n",
      "\n",
      "\n",
      "x = 15\n",
      "y = 15\n",
      "x+y = 30\n",
      "\n",
      "\n",
      "\n",
      "##################################################\n",
      "##################################################\n",
      "\n",
      "\n",
      "\n"
     ]
    }
   ],
   "source": [
    "def lets_Decorate(old_func):\n",
    "    def decorate(*args,**kwargs) : \n",
    "        print(\"#\"*50)\n",
    "        print(\"#\"*50)\n",
    "        print(\"\\n\\n\")\n",
    "        old_func(*args,**kwargs)\n",
    "        print(\"\\n\\n\")\n",
    "        print(\"#\"*50)\n",
    "        print(\"#\"*50)\n",
    "    return decorate\n",
    "\n",
    "hello1 = lets_Decorate(hello)\n",
    "add1 = lets_Decorate(add)\n",
    "print(\"\\n\\nWithout Decoration\\n\\n\")\n",
    "print(\"Calling Hello \\n\")\n",
    "hello(\"Sachin\")\n",
    "print('\\n\\n')\n",
    "print(\"Calling add\\n\")\n",
    "add(6,7)\n",
    "print('\\n\\nAfter Decoration\\n\\n')\n",
    "print(\"Calling hello1\\n\")\n",
    "hello1('sachin yadav')\n",
    "print(\"\\n\\n\")\n",
    "print(\"Calling add1\\n\")\n",
    "add1(15,15)\n",
    "print('\\n\\n')"
   ]
  },
  {
   "cell_type": "code",
   "execution_count": 10,
   "metadata": {},
   "outputs": [
    {
     "name": "stdout",
     "output_type": "stream",
     "text": [
      "******************************\n",
      "******************************\n",
      "\n",
      "Hello sachin\n",
      "\n",
      "******************************\n",
      "******************************\n"
     ]
    }
   ],
   "source": [
    "def lets_Decorate(old_function): \n",
    "    def decorate(*args):\n",
    "        print(\"*\"*30)\n",
    "        print(\"*\"*30)\n",
    "        print()\n",
    "        old_function(*args)\n",
    "        print()\n",
    "        print(\"*\"*30)\n",
    "        print(\"*\"*30)        \n",
    "    return decorate\n",
    "@lets_Decorate #property tag\n",
    "def hello(name):\n",
    "    print(f\"Hello {name}\")\n",
    "hello('sachin')"
   ]
  },
  {
   "cell_type": "code",
   "execution_count": 11,
   "metadata": {},
   "outputs": [],
   "source": [
    "@lets_Decorate\n",
    "def add(x,y): \n",
    "    print(f\"x = {x}\")\n",
    "    print(f\"y = {y}\")\n",
    "    print(f\"x+y = {x+y}\")\n",
    "    "
   ]
  },
  {
   "cell_type": "code",
   "execution_count": 12,
   "metadata": {},
   "outputs": [
    {
     "name": "stdout",
     "output_type": "stream",
     "text": [
      "******************************\n",
      "******************************\n",
      "\n",
      "x = 5\n",
      "y = 6\n",
      "x+y = 11\n",
      "\n",
      "******************************\n",
      "******************************\n"
     ]
    }
   ],
   "source": [
    "add(5,6)"
   ]
  },
  {
   "cell_type": "code",
   "execution_count": null,
   "metadata": {},
   "outputs": [],
   "source": []
  }
 ],
 "metadata": {
  "kernelspec": {
   "display_name": "Python 3",
   "language": "python",
   "name": "python3"
  },
  "language_info": {
   "codemirror_mode": {
    "name": "ipython",
    "version": 3
   },
   "file_extension": ".py",
   "mimetype": "text/x-python",
   "name": "python",
   "nbconvert_exporter": "python",
   "pygments_lexer": "ipython3",
   "version": "3.7.0"
  }
 },
 "nbformat": 4,
 "nbformat_minor": 2
}
