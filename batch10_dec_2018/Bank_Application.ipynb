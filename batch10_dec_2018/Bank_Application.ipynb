{
 "cells": [
  {
   "cell_type": "markdown",
   "metadata": {},
   "source": [
    "<h1 style='color:red'>Bank Applications</h1>"
   ]
  },
  {
   "cell_type": "code",
   "execution_count": 14,
   "metadata": {},
   "outputs": [],
   "source": [
    "data = { \n",
    "        1001: { 'username':'ram','password':'123redhat','bal':50000,'email':'ram@gmail.com','ph_no':1234567890,'addr':'jaipur'},\n",
    "        1002: { 'username':'shyam','password':'redhat123','bal':51500,'email':'shyam@gmail.com','ph_no':123453490,'addr':'kota'},\n",
    "        1003: { 'username':'hari','password':'Asimov','bal':12435,'email':'hari@gmail.com','ph_no':1223567230,'addr':'ajmer'},    \n",
    "     }\n",
    "from getpass import getpass"
   ]
  },
  {
   "cell_type": "code",
   "execution_count": 15,
   "metadata": {},
   "outputs": [],
   "source": [
    "def signup():\n",
    "    print(\"\\n\\nWelcome to Signup Services \")\n",
    "    uname = input(\"Username : \")\n",
    "    password = getpass(\"password : \")\n",
    "    bal = int(input(\"Enter current balance : \"))\n",
    "    email = input(\"Enter your Email Address : \")\n",
    "    addr = input(\"Enter your Address  : \")\n",
    "    ph_no = input(\"Enter your phone number : \")\n",
    "    acc_nums = sorted(list(data.keys()))\n",
    "    acc_no = acc_nums[-1] + 1\n",
    "    data[acc_no] = { 'username':uname,'password':password,'bal':bal,\n",
    "                    'email':email,'ph_no':ph_no,'addr':addr }\n",
    "    print(\"\\n\\nYour account Sucessfully Created\")\n",
    "    print(f\"\\n\\n{acc_no} This is your Account Write it down somewhere very safe and do not share with any it will be used in login process with password \\n\\n\")\n",
    "    input(\"\\n\\nPress any key to coninue\")\n",
    "    login()"
   ]
  },
  {
   "cell_type": "code",
   "execution_count": 16,
   "metadata": {},
   "outputs": [],
   "source": [
    "def chk_bal(acc_no):\n",
    "    print(f\"\\n\\nWelcome user {data[acc_no]['username']} to Check Balance Service \\n\\n\")\n",
    "    print(\"Your Account number is : \",acc_no)\n",
    "    for key,value in data[acc_no].items():\n",
    "        print(f\"{key} = {value}\")\n",
    "    choice(acc_no)"
   ]
  },
  {
   "cell_type": "code",
   "execution_count": 30,
   "metadata": {},
   "outputs": [],
   "source": [
    "def debit(acc_no):\n",
    "    print(f\"\\n\\nWelcome user {data[acc_no]['username']} to debit services\\n\\n\")\n",
    "    amount = int(input(\"Enter amount to be debited : \"))\n",
    "    \n",
    "    if amount > data[acc_no]['bal'] : \n",
    "        print(\"Insufficient Account Balance\")\n",
    "        print(f\"you only have {data[acc_no]['bal']} left in your account\")\n",
    "        choice(acc_no)\n",
    "    else : \n",
    "        data[acc_no]['bal'] -= amount\n",
    "        print(f\"\\n\\nYour Account Sucessfully Debited with {amount}, Your Current Balance is {data[acc_no]['bal']}\")\n",
    "        choice(acc_no)"
   ]
  },
  {
   "cell_type": "code",
   "execution_count": 26,
   "metadata": {},
   "outputs": [],
   "source": [
    "def credit(acc_no):\n",
    "    print(f\"\\n\\nWelcome user {data[acc_no]['username']} to credit services\\n\\n\")\n",
    "    amount = int(input(\"Enter amount to be Credit : \"))\n",
    "    data[acc_no]['bal'] += amount\n",
    "    print(f\"\\n\\nYour Account Sucessfully Credited with {amount}, Your Current Balance is {data[acc_no]['bal']}\")\n",
    "    choice(acc_no)"
   ]
  },
  {
   "cell_type": "code",
   "execution_count": 19,
   "metadata": {},
   "outputs": [],
   "source": [
    "def choice(acc_no):\n",
    "            print(\"\\n\\nChoose one of the service : \")\n",
    "            print(\"\\n1.Credit\\n2.Debit\\n3.Chk_Balance\\n4.Logout\")\n",
    "            ch = int(input(\"Enter your Choice : \"))\n",
    "            if ch == 1 : \n",
    "                credit(acc_no)\n",
    "            elif ch == 2 : \n",
    "                debit(acc_no)\n",
    "            elif ch == 3 : \n",
    "                chk_bal(acc_no)\n",
    "            elif ch == 4 :\n",
    "                print(\" Logging you out \")\n",
    "                main()\n",
    "            else : \n",
    "                print(\"Invalid Choice\")\n",
    "                choice(acc_no)\n",
    "            "
   ]
  },
  {
   "cell_type": "code",
   "execution_count": 20,
   "metadata": {},
   "outputs": [],
   "source": [
    "def login():\n",
    "    print(\"\\n\\nWelcome to login services \\n\\n\")\n",
    "    acc_no = int(input(\"Enter your Account number : \"))\n",
    "    if acc_no in data.keys() :\n",
    "        from getpass import getpass\n",
    "        password = getpass(\"Enter your Password : \")\n",
    "        if password == data[acc_no]['password'] : \n",
    "            choice(acc_no)    \n",
    "        else : \n",
    "            print(\"\\n\\nInvalid Password Try Again\\n\\n\")\n",
    "            input(\"\\nPress any key to login again \")\n",
    "            login()\n",
    "    else : \n",
    "        print(\"\\nNo such Account Exists\")\n",
    "        print(\"\\nPlease Signup\\n\")\n",
    "        input(\"\\n\\nPress any key to go into main menu\")\n",
    "        main()\n",
    "        "
   ]
  },
  {
   "cell_type": "code",
   "execution_count": 24,
   "metadata": {},
   "outputs": [],
   "source": [
    "def main():\n",
    "    print(\"\\n\\nWelcome to Python Bank\")\n",
    "    print(\"\\n\\nChoose your Service : \")\n",
    "    print(\"1.login\\n2.signup\\n3.Exit\")\n",
    "    ch = int(input(\"Enter your Choice : \"))\n",
    "    if ch == 1 : \n",
    "        login()\n",
    "    elif ch == 2 : \n",
    "        signup()\n",
    "    else : \n",
    "        print(\"\\n\\nThanks for using our Services\")\n",
    "        print(\"Exiting\")\n",
    "    "
   ]
  },
  {
   "cell_type": "code",
   "execution_count": 32,
   "metadata": {},
   "outputs": [
    {
     "name": "stdout",
     "output_type": "stream",
     "text": [
      "\n",
      "\n",
      "Welcome to Python Bank\n",
      "\n",
      "\n",
      "Choose your Service : \n",
      "1.login\n",
      "2.signup\n",
      "3.Exit\n",
      "Enter your Choice : 1\n",
      "\n",
      "\n",
      "Welcome to login services \n",
      "\n",
      "\n",
      "Enter your Account number : 1004\n",
      "Enter your Password : ········\n",
      "\n",
      "\n",
      "Choose one of the service : \n",
      "\n",
      "1.Credit\n",
      "2.Debit\n",
      "3.Chk_Balance\n",
      "4.Logout\n",
      "Enter your Choice : 2\n",
      "\n",
      "\n",
      "Welcome user sachin to debit services\n",
      "\n",
      "\n",
      "Enter amount to be debited : 45000\n",
      "Insufficient Account Balance\n",
      "you only have 40000 left in your account\n",
      "\n",
      "\n",
      "Choose one of the service : \n",
      "\n",
      "1.Credit\n",
      "2.Debit\n",
      "3.Chk_Balance\n",
      "4.Logout\n",
      "Enter your Choice : 2\n",
      "\n",
      "\n",
      "Welcome user sachin to debit services\n",
      "\n",
      "\n",
      "Enter amount to be debited : 39999\n",
      "\n",
      "\n",
      "Your Account Sucessfully Debited with 39999, Your Current Balance is 1\n",
      "\n",
      "\n",
      "Choose one of the service : \n",
      "\n",
      "1.Credit\n",
      "2.Debit\n",
      "3.Chk_Balance\n",
      "4.Logout\n",
      "Enter your Choice : 4\n",
      " Logging you out \n",
      "\n",
      "\n",
      "Welcome to Python Bank\n",
      "\n",
      "\n",
      "Choose your Service : \n",
      "1.login\n",
      "2.signup\n",
      "3.Exit\n",
      "Enter your Choice : 3\n",
      "\n",
      "\n",
      "Thanks for using our Services\n",
      "Exiting\n"
     ]
    }
   ],
   "source": [
    "main()"
   ]
  },
  {
   "cell_type": "code",
   "execution_count": null,
   "metadata": {},
   "outputs": [],
   "source": []
  }
 ],
 "metadata": {
  "kernelspec": {
   "display_name": "Python 3",
   "language": "python",
   "name": "python3"
  },
  "language_info": {
   "codemirror_mode": {
    "name": "ipython",
    "version": 3
   },
   "file_extension": ".py",
   "mimetype": "text/x-python",
   "name": "python",
   "nbconvert_exporter": "python",
   "pygments_lexer": "ipython3",
   "version": "3.7.0"
  }
 },
 "nbformat": 4,
 "nbformat_minor": 2
}
